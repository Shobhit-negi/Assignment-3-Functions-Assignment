{
  "nbformat": 4,
  "nbformat_minor": 0,
  "metadata": {
    "colab": {
      "provenance": [],
      "toc_visible": true
    },
    "kernelspec": {
      "name": "python3",
      "display_name": "Python 3"
    },
    "language_info": {
      "name": "python"
    }
  },
  "cells": [
    {
      "cell_type": "markdown",
      "source": [
        "#Assignment : Functions Assignment\n",
        "\n",
        "**THEORY QUESTIONS**\n"
      ],
      "metadata": {
        "id": "ayZ3W9vJMR2P"
      }
    },
    {
      "cell_type": "markdown",
      "source": [
        "Q1. What is the difference between a function and a method in Python?\n",
        "- A function is like a recipe we can use anywhere. A method is like a recipe that belongs to a specific object (like a list or string).\n",
        "\n",
        "- eg:\n",
        "def greet(name):\n",
        "    return \"Hello \" + name\n",
        "print(greet(\"Alice\"))  \n",
        "Output: Hello Alice\n",
        "\n",
        "- Mehtod (belongs to Strings object):\n",
        "message = \"hello\"\n",
        "print(message.upper())  \n",
        "Output: HELLO\n",
        "\n",
        "\n",
        "Q2. Explain the concept of function arguments and parameters in Python.\n",
        "- Parameters are like empty boxes in the function. And arguments are the actual things we put into those boxes when calling the function.\n",
        "\n",
        "- def add(a, b): #(here a and b are parameters)\n",
        "\n",
        "- return a + b\n",
        "- print(add(3, 4))  # (here 3 and 4 are arguments)\n",
        "\n",
        "Q3. What are the different ways to define and call a function in Python?\n",
        "- We can define a function using def or lambda. We call them by using parentheses ()."
      ],
      "metadata": {
        "id": "a0bQAMXlMXCG"
      }
    },
    {
      "cell_type": "code",
      "source": [
        "# Eg: Regular function\n",
        "def say_hello():\n",
        "    print(\"Hello!\")\n",
        "\n",
        "say_hello()\n",
        "\n",
        "# Function with parameters\n",
        "def greet(name):\n",
        "    print(\"Hi\", name)\n",
        "\n",
        "greet(\"Bob\")\n",
        "\n",
        "# Lambda function (anonymous function)\n",
        "square = lambda x: x * x\n",
        "print(square(5))  # Output: 25"
      ],
      "metadata": {
        "colab": {
          "base_uri": "https://localhost:8080/"
        },
        "collapsed": true,
        "id": "_S7AHGPqPBEl",
        "outputId": "124957d3-98f8-4056-d46f-73f2829a7595"
      },
      "execution_count": 1,
      "outputs": [
        {
          "output_type": "stream",
          "name": "stdout",
          "text": [
            "Hello!\n",
            "Hi Bob\n",
            "25\n"
          ]
        }
      ]
    },
    {
      "cell_type": "markdown",
      "source": [
        "Q4. What is the purpose of the return statement in a Python function?\n",
        "- Return sends the result back to where the function was called from.\n",
        "\n",
        "\n",
        "\n"
      ],
      "metadata": {
        "id": "GAUci60KPTAM"
      }
    },
    {
      "cell_type": "code",
      "execution_count": null,
      "metadata": {
        "id": "lYo6DtG2MFTV"
      },
      "outputs": [],
      "source": [
        "def square(x):\n",
        "    return x * x\n",
        "\n",
        "result = square(5)\n",
        "print(result)\n",
        "\n",
        "\"\"\"\n",
        "square(x) takes a number x and returns its square using return x * x.\n",
        "\n",
        "The result is stored in result and then printed.\n",
        "\n",
        "Another example:\n",
        "We order food at a restaurant:\n",
        "The waiter (function) takes our order.\n",
        "The kitchen prepares it.\n",
        "Then returns the dish to us.\n",
        "Without return, we don’t get the food!\n",
        "\n",
        "\"\"\"\n"
      ]
    },
    {
      "cell_type": "markdown",
      "source": [
        "Q5. What are iterators in Python and how do they differ from iterables?\n",
        "- Iterable = it is something we can loop through (like list, string).\n",
        "- Iterator = it is a tool that lets us go through each item one by one.\n",
        "\n",
        "\n",
        "\n"
      ],
      "metadata": {
        "id": "lMexjrzSQIF9"
      }
    },
    {
      "cell_type": "code",
      "source": [
        "# List is an iterable\n",
        "nums = [1, 2, 3]\n",
        "\n",
        "# Create iterator from iterable\n",
        "it = iter(nums)\n",
        "\n",
        "print(next(it))  # Output: 1\n",
        "print(next(it))  # Output: 2\n",
        "\n",
        "\"\"\"\n",
        "nums is an iterable and can be looped.\n",
        "it = iter(nums) turns it into an iterator (can be consumed one element at a time).\n",
        "next(it) retrieves values one by one.\n",
        "\n",
        "In layman language a book is an iterable and it has pages.And a bookmark is like an iterator—it helps us go through the book one page at a time.\n",
        "\"\"\""
      ],
      "metadata": {
        "id": "qqIJVQt-MIOQ"
      },
      "execution_count": null,
      "outputs": []
    },
    {
      "cell_type": "markdown",
      "source": [
        "Q6. Explain the concept of generators in Python and how they are defined.\n",
        "- Generators are like custom iterators that give values one by one using yield.\n",
        "It is like a coffee machine that gives one cup at a time when we press a button instead of making 10 cups at once. Similary a generator works and saves memory and gives one data at a time.\n",
        "\n"
      ],
      "metadata": {
        "id": "q_ujp2_sQ-4Q"
      }
    },
    {
      "cell_type": "code",
      "source": [
        "def count_up_to(n):\n",
        "    i = 1\n",
        "    while i <= n:\n",
        "        yield i\n",
        "        i += 1\n",
        "\n",
        "for number in count_up_to(3):\n",
        "    print(number)"
      ],
      "metadata": {
        "colab": {
          "base_uri": "https://localhost:8080/"
        },
        "collapsed": true,
        "id": "ZvINp63ZTMma",
        "outputId": "c8e34ec0-fee5-4b77-83e2-d9f00b85284f"
      },
      "execution_count": 2,
      "outputs": [
        {
          "output_type": "stream",
          "name": "stdout",
          "text": [
            "1\n",
            "2\n",
            "3\n"
          ]
        }
      ]
    },
    {
      "cell_type": "markdown",
      "source": [
        "Q7. What are the advantages of using generators over regular functions?\n",
        "- It uses less memory and only compute when needed. It is like a coffee machine that gives one cup at a time when we press a button instead of making 10 cups at once. Similary a generator works and saves memory and gives one data at a time.\n",
        "\n",
        "Q8. What is a lambda function in Python and when is it typically used?\n",
        "- it is an Annonymous function > Unknown functon that helps us to write short hand function.\n",
        "Let's say to find the square we write def square(x): return x**2 square(2) and the output will be 4. Here we wrote 3 lines of code. Howeveer if we use lambda job can be done as sq=lambda x:x**2 sq(2) output 4.\n",
        "Here we achieved same results with less lines of codes.\n",
        "\n",
        "\n",
        "Q9. Explain the purpose and usage of the `map()` function in Python.\n",
        "- Map requires two things, function (it can also be lambda) and iterables. It applies a function to every item in a list or iterable.\n",
        "\n",
        "- Eg : We have to stam “Approved” on every document in a pile.\n",
        "map() lets us apply the same action to each item in a collection.\n",
        "\n",
        "\n"
      ],
      "metadata": {
        "id": "O3TZOBamTSOi"
      }
    },
    {
      "cell_type": "code",
      "source": [
        "nums = [1, 2, 3, 4]\n",
        "squared = map(lambda x: x ** 2, nums)\n",
        "print(list(squared))\n"
      ],
      "metadata": {
        "colab": {
          "base_uri": "https://localhost:8080/"
        },
        "id": "Ku4G4CYgMIMR",
        "outputId": "c0583109-20a1-41fb-edcb-7f2df09b83f2"
      },
      "execution_count": 3,
      "outputs": [
        {
          "output_type": "stream",
          "name": "stdout",
          "text": [
            "[1, 4, 9, 16]\n"
          ]
        }
      ]
    },
    {
      "cell_type": "markdown",
      "source": [
        "Q10. What is the difference between `map()`, `reduce()`, and `filter()` functions in Python?\n",
        "\n",
        "- map() – It changes each item. Like writing names on all envelopes.\n",
        "\n",
        "- filter() – it keep items that match a condition. Like removing the expired items from your home.\n",
        "\n",
        "- reduce() – it combines all items into one. Like adding the bill of all the shopping items.\n",
        "\n",
        "\n",
        "Q11. Using pen & Paper write the internal mechanism for sum operation using  reduce function on this given\n",
        "list:[47,11,42,13];\n",
        "- LINK: https://docs.google.com/document/d/1N2TvuInfj0Jlf5XEJHqqHM04OWeJKViufkiC4bA9w4M/edit?tab=t.0"
      ],
      "metadata": {
        "id": "qe1JP4ISV2vi"
      }
    },
    {
      "cell_type": "markdown",
      "source": [
        "**PRACTICLE QUESTIONS**"
      ],
      "metadata": {
        "id": "UM8MewYcckcM"
      }
    },
    {
      "cell_type": "code",
      "source": [
        "#Q1. Write a Python function that takes a list of numbers as input and returns the sum of all even numbers in the list.\n",
        "\n",
        "def sum_even_numbers(numbers):\n",
        "    return sum(num for num in numbers if num % 2 == 0)\n",
        "print(sum_even_numbers([1, 2, 3, 4, 5, 6]))"
      ],
      "metadata": {
        "colab": {
          "base_uri": "https://localhost:8080/"
        },
        "id": "IUgEYMVJMIKH",
        "outputId": "1033aeda-8185-4d03-dd72-28104ec42fbc"
      },
      "execution_count": 7,
      "outputs": [
        {
          "output_type": "stream",
          "name": "stdout",
          "text": [
            "12\n"
          ]
        }
      ]
    },
    {
      "cell_type": "code",
      "source": [
        "#Q2. Create a Python function that accepts a string and returns the reverse of that string.\n",
        "\n",
        "def reverse_string(s):\n",
        "    return s[::-1]\n",
        "print(reverse_string(\"hello\"))"
      ],
      "metadata": {
        "colab": {
          "base_uri": "https://localhost:8080/"
        },
        "id": "yG8XdkgRMIIE",
        "outputId": "47728510-1a54-4b97-9d6e-a64510a81be5"
      },
      "execution_count": 1,
      "outputs": [
        {
          "output_type": "stream",
          "name": "stdout",
          "text": [
            "olleh\n"
          ]
        }
      ]
    },
    {
      "cell_type": "code",
      "source": [
        "#Q3. Implement a Python function that takes a list of integers and returns a new list containing the squares of each number.\n",
        "\n",
        "def square_list(numbers):\n",
        "    return [num**2 for num in numbers]\n",
        "print(square_list([1, 2, 3, 4]))\n"
      ],
      "metadata": {
        "colab": {
          "base_uri": "https://localhost:8080/"
        },
        "id": "hNo7_v1fMIFr",
        "outputId": "85e156f8-03c7-41f9-b54f-8d125a2d6896"
      },
      "execution_count": 2,
      "outputs": [
        {
          "output_type": "stream",
          "name": "stdout",
          "text": [
            "[1, 4, 9, 16]\n"
          ]
        }
      ]
    },
    {
      "cell_type": "code",
      "source": [
        "#Q4. Write a Python function that checks if a given number is prime or not from 1 to 200.\n",
        "def is_prime(n):\n",
        "    if n < 2:\n",
        "        return False\n",
        "    for i in range(2, int(n**0.5)+1):\n",
        "        if n % i == 0:\n",
        "            return False\n",
        "    return True\n",
        "prime_numbers = [x for x in range(1, 201) if is_prime(x)]\n",
        "print(prime_numbers)\n"
      ],
      "metadata": {
        "colab": {
          "base_uri": "https://localhost:8080/"
        },
        "id": "msPjncdCMIDV",
        "outputId": "14bf3c09-6460-4a68-c473-750b958f3f76"
      },
      "execution_count": 3,
      "outputs": [
        {
          "output_type": "stream",
          "name": "stdout",
          "text": [
            "[2, 3, 5, 7, 11, 13, 17, 19, 23, 29, 31, 37, 41, 43, 47, 53, 59, 61, 67, 71, 73, 79, 83, 89, 97, 101, 103, 107, 109, 113, 127, 131, 137, 139, 149, 151, 157, 163, 167, 173, 179, 181, 191, 193, 197, 199]\n"
          ]
        }
      ]
    },
    {
      "cell_type": "code",
      "source": [
        "#Q5. Create an iterator class in Python that generates the Fibonacci sequence up to a specified number of terms.\n",
        "class Fibonacci:\n",
        "    def __init__(self, limit):\n",
        "        self.limit = limit\n",
        "        self.a, self.b = 0, 1\n",
        "        self.count = 0\n",
        "\n",
        "    def __iter__(self):\n",
        "        return self\n",
        "\n",
        "    def __next__(self):\n",
        "        if self.count >= self.limit:\n",
        "            raise StopIteration\n",
        "        self.count += 1\n",
        "        result = self.a\n",
        "        self.a, self.b = self.b, self.a + self.b\n",
        "        return result\n",
        "for num in Fibonacci(5):\n",
        "    print(num)\n"
      ],
      "metadata": {
        "colab": {
          "base_uri": "https://localhost:8080/"
        },
        "id": "O_1fZriiMIAp",
        "outputId": "3fe418ee-a474-46ed-d240-70f9f34a7fd1"
      },
      "execution_count": 4,
      "outputs": [
        {
          "output_type": "stream",
          "name": "stdout",
          "text": [
            "0\n",
            "1\n",
            "1\n",
            "2\n",
            "3\n"
          ]
        }
      ]
    },
    {
      "cell_type": "code",
      "source": [
        "#Q6. Write a generator function in Python that yields the powers of 2 up to a given exponent.\n",
        "def powers_of_two(n):\n",
        "    for i in range(n + 1):\n",
        "        yield 2**i\n",
        "for val in powers_of_two(4):\n",
        "    print(val)\n"
      ],
      "metadata": {
        "colab": {
          "base_uri": "https://localhost:8080/"
        },
        "id": "8tMaM0mQMH-A",
        "outputId": "87faca98-43a3-4484-bb0e-eebb5ff577fe"
      },
      "execution_count": 5,
      "outputs": [
        {
          "output_type": "stream",
          "name": "stdout",
          "text": [
            "1\n",
            "2\n",
            "4\n",
            "8\n",
            "16\n"
          ]
        }
      ]
    },
    {
      "cell_type": "code",
      "source": [
        "#Q7. Implement a generator function that reads a file line by line and yields each line as a string.\n",
        "def read_file_lines(filename):\n",
        "    with open(filename, 'r') as file:\n",
        "        for line in file:\n",
        "            yield line.strip()\n",
        "for line in read_file_lines('example.txt'):\n",
        "    print(line)\n",
        "\n",
        "#IMPORTANT: it will throw the error as there is no file example.txt exists."
      ],
      "metadata": {
        "id": "zV_y9KmFMH7d"
      },
      "execution_count": null,
      "outputs": []
    },
    {
      "cell_type": "code",
      "source": [
        "#Q8. Use a lambda function in Python to sort a list of tuples based on the second element of each tuple.\n",
        "data = [(1, 3), (4, 1), (2, 5)]\n",
        "sorted_data = sorted(data, key=lambda x: x[1])\n",
        "print(sorted_data)"
      ],
      "metadata": {
        "colab": {
          "base_uri": "https://localhost:8080/"
        },
        "id": "rAHs9-5FMH5H",
        "outputId": "86e53fdb-bf8f-47a5-feb7-30a9636725cb"
      },
      "execution_count": 37,
      "outputs": [
        {
          "output_type": "stream",
          "name": "stdout",
          "text": [
            "[(4, 1), (1, 3), (2, 5)]\n"
          ]
        }
      ]
    },
    {
      "cell_type": "code",
      "source": [
        "#Q9. Write a Python program that uses `map()` to convert a list of temperatures from Celsius to Fahrenheit.\n",
        "celsius = [0, 20, 30, 40]\n",
        "fahrenheit = list(map(lambda c: (c * 9/5) + 32, celsius))\n",
        "print(fahrenheit)\n"
      ],
      "metadata": {
        "colab": {
          "base_uri": "https://localhost:8080/"
        },
        "id": "9kN-OXkpNgxL",
        "outputId": "75235ff2-5960-4d5f-e64a-51dd83234877"
      },
      "execution_count": 38,
      "outputs": [
        {
          "output_type": "stream",
          "name": "stdout",
          "text": [
            "[32.0, 68.0, 86.0, 104.0]\n"
          ]
        }
      ]
    },
    {
      "cell_type": "code",
      "source": [
        "#Q10. Create a Python program that uses `filter()` to remove all the vowels from a given string.\n",
        "def remove_vowels(s):\n",
        "    return ''.join(filter(lambda c: c.lower() not in 'aeiou', s))\n",
        "print(remove_vowels(\"Hello, my name Shobhit Negi\"))"
      ],
      "metadata": {
        "colab": {
          "base_uri": "https://localhost:8080/"
        },
        "id": "X2zxOiYsOApP",
        "outputId": "15f6c65a-0ce0-4dc4-de0d-b240704b46a0"
      },
      "execution_count": 40,
      "outputs": [
        {
          "output_type": "stream",
          "name": "stdout",
          "text": [
            "Hll, my nm Shbht Ng\n"
          ]
        }
      ]
    },
    {
      "cell_type": "code",
      "source": [
        "#Q11. Imagine an accounting routine used in a book shop. It works on a list with sublists, which look like this:\n",
        "\"\"\"Write a Python program, which returns a list with 2-tuples. Each tuple consists of the order number and the\n",
        "product of the price per item and the quantity. The product should be increased by 10,- € if the value of the\n",
        "order is smaller than 100,00 €.\n",
        "Write a Python program using lambda and map.\"\"\"\n",
        "\n",
        "\n",
        "orders = [\n",
        "    [101, \"Book\", 15, 3],\n",
        "    [102, \"Pen\", 5, 2],\n",
        "    [103, \"Notebook\", 20, 6],\n",
        "]\n",
        "\n",
        "result = list(map(lambda order: (\n",
        "    order[0],\n",
        "    order[2] * order[3] if order[2] * order[3] >= 100 else order[2] * order[3] + 10\n",
        "), orders))\n",
        "\n",
        "print(result)"
      ],
      "metadata": {
        "colab": {
          "base_uri": "https://localhost:8080/"
        },
        "id": "Kgxd6Z8KNg5F",
        "outputId": "6186ca76-66c2-41bd-a297-174affe316e1"
      },
      "execution_count": 41,
      "outputs": [
        {
          "output_type": "stream",
          "name": "stdout",
          "text": [
            "[(101, 55), (102, 20), (103, 120)]\n"
          ]
        }
      ]
    }
  ]
}